{
  "cells": [
    {
      "cell_type": "markdown",
      "metadata": {
        "id": "view-in-github",
        "colab_type": "text"
      },
      "source": [
        "<a href=\"https://colab.research.google.com/github/Henrytst/Processamento-de-Imagem/blob/main/Utilizando%20Biblioteca%20Cv2%20para%20edi%C3%A7%C3%A3o%20de%20imagens.ipynb\" target=\"_parent\"><img src=\"https://colab.research.google.com/assets/colab-badge.svg\" alt=\"Open In Colab\"/></a>"
      ]
    },
    {
      "cell_type": "code",
      "execution_count": null,
      "metadata": {
        "id": "j4lG1bhO7QQc"
      },
      "outputs": [],
      "source": [
        "################ utilize Jupyter ou google colab nas aplicações deste código ####################\n",
        "\n",
        "#instalação de bibliotecas\n",
        "#pip install opencv-python, matplotlib, numpy, seaborn"
      ]
    },
    {
      "cell_type": "code",
      "execution_count": null,
      "metadata": {
        "id": "rriZfv0Z7QQf"
      },
      "outputs": [],
      "source": [
        "#Acesso aos pixels da imagem\n",
        "import numpy as np\n",
        "import cv2 # OpenCV\n",
        "\n",
        "#Exibir imagem na mesma tela do jupyter\n",
        "%matplotlib inline\n",
        "import matplotlib.pyplot as plt\n",
        "import seaborn as sns\n",
        "plt.style.use(\"seaborn\")\n",
        "sns.set_style(\"whitegrid\", {\"axes.grid\" : False})\n",
        "\n",
        "#carregar imagens no google colab com skimage e exibindo a imagem com OpenCV\n",
        "from skimage import io\n",
        "from google.colab.patches import cv2_imshow #Porque a função cv2.imshow é incompatível com Jupyter Notebook"
      ]
    },
    {
      "cell_type": "code",
      "execution_count": null,
      "metadata": {
        "id": "a64zTIvL7QQg"
      },
      "outputs": [],
      "source": [
        "!wget -O 'image-1.jpg' 'https://www.bing.com/th?id=OIP.DYGAuPUypuykGYRyldDb2AHaEK&w=218&h=110&c=8&rs=1&qlt=90&o=6&pid=3.1&rm=2.jpg'\n",
        "!wget -O 'image-2.jpg' 'https://www.bing.com/th?id=OIP.0toBm6dGtw_6EMD66sF33QHaEo&w=153&h=100&c=8&rs=1&qlt=90&o=6&pid=3.1&rm=2.jpg'\n",
        "!wget -O 'image-3.jpg' 'https://www.bing.com/th?id=OIP.yG5Du5O9h3ytPAPwJGVZhQHaEo&w=149&h=100&c=8&rs=1&qlt=90&o=6&pid=3.1&rm=2.jpg'"
      ]
    },
    {
      "cell_type": "code",
      "execution_count": null,
      "metadata": {
        "id": "YGXlFVVF7QQh"
      },
      "outputs": [],
      "source": [
        "from google.colab import files\n",
        "uploaded = files.upload()\n",
        "#Clicando em Files no canto esquerdo é possivel visualizar os arquivos"
      ]
    },
    {
      "cell_type": "code",
      "execution_count": null,
      "metadata": {
        "id": "pcJv2goo7QQh"
      },
      "outputs": [],
      "source": [
        "from google.colab import drive\n",
        "drive.mount('/content/drive/')"
      ]
    },
    {
      "cell_type": "code",
      "execution_count": null,
      "metadata": {
        "id": "P7rUB_uH7QQh"
      },
      "outputs": [],
      "source": [
        "#leitura da imagem com a função imread()\n",
        "image = cv2.imread(\"/content/alvo.jpg\")\n",
        "#image = cv2.imread(\"/content/carris.jpg\", cv2.IMREAD_COLOR)"
      ]
    },
    {
      "cell_type": "code",
      "execution_count": null,
      "metadata": {
        "id": "wCmr9ZWQ7QQi"
      },
      "outputs": [],
      "source": [
        "cv2_imshow(image)"
      ]
    },
    {
      "cell_type": "code",
      "execution_count": null,
      "metadata": {
        "id": "Z2JZO_3B7QQi"
      },
      "outputs": [],
      "source": [
        "#le a imagem para uma matriz\n",
        "image10 = cv2.imread(\"/content/alvo.jpg\", cv2.IMREAD_COLOR)\n",
        "\n",
        "#Le as propriedades da imagem\n",
        "altura, largura, bytesPorPixel = np.shape(image10)\n",
        "\n",
        "#Percorre toda a imagem, fazendo a leitura de valores de cada pixel\n",
        "for py in range(0, altura):\n",
        "  for px in range(0, largura):\n",
        "    print(image10[py][px])"
      ]
    },
    {
      "cell_type": "code",
      "execution_count": null,
      "metadata": {
        "id": "uYzHZ2ix7QQj"
      },
      "outputs": [],
      "source": [
        "cv2.imwrite(\"alvo2.jpg\", image)"
      ]
    },
    {
      "cell_type": "code",
      "execution_count": null,
      "metadata": {
        "id": "hQHxsFNG7QQj"
      },
      "outputs": [],
      "source": [
        "imageRGB = cv2.cvtColor(image, cv2.COLOR_BGR2RGB)\n",
        "\n",
        "plt.figure(figsize=(20,10))\n",
        "plt.imshow(imageRGB)"
      ]
    },
    {
      "cell_type": "code",
      "execution_count": null,
      "metadata": {
        "id": "WagX-KeZ7QQj"
      },
      "outputs": [],
      "source": [
        "image = cv2.imread('color.png')\n",
        "imageRGB = cv2.cvtColor(image, cv2.COLOR_BGR2RGB)\n",
        "\n",
        "final_frame = cv2.hconcat((imageRGB, image))\n",
        "cv2_imshow(final_frame)\n",
        "print('\\n')"
      ]
    },
    {
      "cell_type": "code",
      "execution_count": null,
      "metadata": {
        "id": "HyETi9l27QQk"
      },
      "outputs": [],
      "source": [
        "#create a list to store the urls of the images\n",
        "images = ['image-1.jpg', 'image-2.jpg', 'image-3.jpg']\n",
        "#read and display the image\n",
        "#loop over the image URLs, you could store several image urls in the list\n",
        "\n",
        "for i in images:\n",
        "  imagem = io.imread(i)\n",
        "  imagem_2 = cv2.cvtColor(imagem, cv2.COLOR_BGR2RGB)\n",
        "  imagem_concatenada = cv2.hconcat((imagem, imagem_2))\n",
        "  cv2_imshow(imagem_concatenada)\n",
        "  print('\\n')"
      ]
    },
    {
      "cell_type": "code",
      "execution_count": null,
      "metadata": {
        "id": "DmTA-X4v7QQk"
      },
      "outputs": [],
      "source": [
        "imagem_gray = cv2.cvtColor(imageRGB, cv2.COLOR_BGR2GRAY)"
      ]
    },
    {
      "cell_type": "code",
      "execution_count": null,
      "metadata": {
        "id": "3XP4ppkr7QQk"
      },
      "outputs": [],
      "source": [
        "plt.figure(figsize=(20,10))\n",
        "plt.imshow(imagem_gray, cmap = 'gray')"
      ]
    },
    {
      "cell_type": "code",
      "execution_count": null,
      "metadata": {
        "id": "RzAhdOYs7QQk"
      },
      "outputs": [],
      "source": [
        "image = cv2.imread('image-1.jpg', cv2.IMREAD_COLOR)\n",
        "imageRGB = cv2.cvtColor(image, cv2.COLOR_BGR2RGB)\n",
        "\n",
        "print(\"largura (w): %d pixels\" % (image.shape[1]))\n",
        "print(\"altura (h): %d pixels\" % (image.shape[0]))\n",
        "print(\"número de canais: %d\" % (image.shape[2]))\n",
        "print(\"tipo:\", image.dtype)\n",
        "print(\"tamanho da imagem: \", image.size)"
      ]
    },
    {
      "cell_type": "code",
      "execution_count": null,
      "metadata": {
        "id": "1m0Os82r7QQk"
      },
      "outputs": [],
      "source": [
        "#verificando valores do pixel na posição\n",
        "(r, g, b) = imageRGB[0, 0]\n",
        "print(\"Pixel na posição (0, 0) - Red: %d, Green: %d, Blue: %d\" % (r, g, b))"
      ]
    },
    {
      "cell_type": "code",
      "execution_count": null,
      "metadata": {
        "id": "4rkZVHNO7QQk"
      },
      "outputs": [],
      "source": [
        "r, g, b = cv2.split(imageRGB)\n",
        "\n",
        "#composição Vermelha\n",
        "plt.subplot(1,3,1)\n",
        "plt.imshow(r, cmap = \"gray\")\n",
        "plt.title(\"Image Red\")\n",
        "\n",
        "#composição Verde\n",
        "plt.subplot(1,3,2)\n",
        "plt.imshow(g, cmap = \"gray\")\n",
        "plt.title(\"Image Green\")\n",
        "\n",
        "#composição Azul\n",
        "plt.subplot(1,3,3)\n",
        "plt.imshow(b, cmap = \"gray\")\n",
        "plt.title(\"Image Blue\")"
      ]
    },
    {
      "cell_type": "code",
      "execution_count": null,
      "metadata": {
        "id": "l4IoQGAs7QQl"
      },
      "outputs": [],
      "source": [
        "#criando uma matriz vazia na mesma dimensão da imagem\n",
        "r, g, b = cv2.split(imageRGB)\n",
        "imagem_vazia = np.zeros(imageRGB.shape[:2], dtype=np.uint8)\n",
        "\n",
        "cv2_imshow(imagem_vazia)"
      ]
    },
    {
      "cell_type": "code",
      "execution_count": null,
      "metadata": {
        "id": "PoOZ95uT7QQl"
      },
      "outputs": [],
      "source": [
        "#misturando as imagens com o a função merge\n",
        "plt.figure(figsize = (20,20))\n",
        "\n",
        "#composição Vermelha\n",
        "plt.subplot(1,3,1)\n",
        "plt.imshow(cv2.merge([r, imagem_vazia, imagem_vazia]))\n",
        "plt.title(\"Image Red\")\n",
        "\n",
        "#composição Verde\n",
        "plt.subplot(1,3,2)\n",
        "plt.imshow(cv2.merge([imagem_vazia, g, imagem_vazia]))\n",
        "plt.title(\"Image Green\")\n",
        "\n",
        "#composição Azul\n",
        "plt.subplot(1,3,3)\n",
        "plt.imshow(cv2.merge([imagem_vazia, imagem_vazia, b]))\n",
        "plt.title(\"Image Blue\")"
      ]
    },
    {
      "cell_type": "code",
      "execution_count": null,
      "metadata": {
        "id": "4QKGry9w7QQl"
      },
      "outputs": [],
      "source": [
        "#misturando as 3 imagens anteriores\n",
        "\n",
        "image_merged = cv2.merge([r, g, b])\n",
        "\n",
        "plt.figure(figsize=(5,2))\n",
        "plt.title(\"Imagem RGB\")\n",
        "plt.imshow(image_merged)"
      ]
    },
    {
      "cell_type": "code",
      "execution_count": null,
      "metadata": {
        "id": "gjZCwWha7QQl"
      },
      "outputs": [],
      "source": [
        "#modificando a quantidade de rgb nas imagens\n",
        "\n",
        "plt.figure(figsize = (20,10))\n",
        "\n",
        "#composição Vermelha\n",
        "plt.subplot(1,3,2)\n",
        "plt.imshow(cv2.merge([r+60, g, b]))\n",
        "plt.title(\"Intensificando Red\")\n",
        "\n",
        "#composição Verde\n",
        "plt.subplot(1,3,1)\n",
        "plt.imshow(cv2.merge([r, g+60, b]))\n",
        "plt.title(\"Intensificando Green\")\n",
        "\n",
        "#composição Azul\n",
        "plt.subplot(1,3,3)\n",
        "plt.imshow(cv2.merge([r, g, b+60]))\n",
        "plt.title(\"Intensificando Blue\")"
      ]
    },
    {
      "cell_type": "code",
      "execution_count": null,
      "metadata": {
        "id": "8_qQm6fP7QQl"
      },
      "outputs": [],
      "source": [
        "# HSV\n",
        "image_hsv = cv2.cvtColor(image, cv2.COLOR_BGR2HSV)\n",
        "cv2_imshow(image_hsv)"
      ]
    },
    {
      "cell_type": "code",
      "execution_count": null,
      "metadata": {
        "id": "oJns6xka7QQl"
      },
      "outputs": [],
      "source": [
        "# HSV em escala de cinza com brilho\n",
        "plt.figure(figsize=(5,1.3))\n",
        "plt.imshow(image_hsv[:,:,2], cmap=\"gray\")\n",
        "plt.title(\"Imagem Hue (Matiz)\")"
      ]
    },
    {
      "cell_type": "code",
      "execution_count": null,
      "metadata": {
        "id": "OOt5kzc97QQl"
      },
      "outputs": [],
      "source": [
        "#conversão do RGB para o L*A*B\n",
        "import math\n",
        "red_green = math.sqrt(((255 - 0)**2) + ((0 - 255)**2) + ((0-0)**2))\n",
        "red_purple = math.sqrt(((255 - 128)**2) + ((0 - 0)**2) + ((0-128)**2))\n",
        "red_navy = math.sqrt(((255 - 0)**2) + ((0 - 0)**2) + ((0-128)**2))\n",
        "red_green, red_purple, red_navy\n",
        "#(360.62445840513925, 180.31361568112376, 285.3226244096321)"
      ]
    },
    {
      "cell_type": "code",
      "execution_count": null,
      "metadata": {
        "id": "udoY9kAF7QQl"
      },
      "outputs": [],
      "source": [
        "#converte imagem para o espaço de cores L*a*b*\n",
        "lab = cv2.cvtColor(image, cv2.COLOR_BGR2LAB)\n",
        "#cv2.imshow(\"lab\", lab)\n",
        "cv2_imshow(lab)\n",
        "\n",
        "#separa os canais da imagem L*a*b*\n",
        "l, a, b = cv2.split(lab)\n",
        "\n",
        "#mostra o resultado\n",
        "cv2_imshow(l)\n",
        "cv2_imshow(a)\n",
        "cv2_imshow(b)"
      ]
    }
  ],
  "metadata": {
    "kernelspec": {
      "display_name": "Python 3",
      "language": "python",
      "name": "python3"
    },
    "language_info": {
      "codemirror_mode": {
        "name": "ipython",
        "version": 3
      },
      "file_extension": ".py",
      "mimetype": "text/x-python",
      "name": "python",
      "nbconvert_exporter": "python",
      "pygments_lexer": "ipython3",
      "version": "3.11.7"
    },
    "colab": {
      "provenance": [],
      "include_colab_link": true
    }
  },
  "nbformat": 4,
  "nbformat_minor": 0
}