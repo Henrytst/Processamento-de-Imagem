{
  "cells": [
    {
      "cell_type": "markdown",
      "metadata": {
        "id": "view-in-github",
        "colab_type": "text"
      },
      "source": [
        "<a href=\"https://colab.research.google.com/github/Henrytst/Processamento-de-Imagem/blob/main/Transformacoes_de_imagens.ipynb\" target=\"_parent\"><img src=\"https://colab.research.google.com/assets/colab-badge.svg\" alt=\"Open In Colab\"/></a>"
      ]
    },
    {
      "cell_type": "code",
      "execution_count": null,
      "metadata": {
        "id": "sGP033BhECBb"
      },
      "outputs": [],
      "source": [
        "!pip install opencv-python\n",
        "!pip install matplotlib\n",
        "!pip install numpy\n",
        "!pip install seaborn"
      ]
    },
    {
      "cell_type": "code",
      "execution_count": null,
      "metadata": {
        "id": "iMb9tdxBC6bp"
      },
      "outputs": [],
      "source": [
        "import numpy as np\n",
        "import cv2 # OpenCV\n",
        "\n",
        "#Exibir imagem na mesma tela do jupyter\n",
        "%matplotlib inline\n",
        "import matplotlib.pyplot as plt\n",
        "import seaborn as sns\n",
        "\n",
        "plt.style.use(\"seaborn\")\n",
        "sns.set_style(\"whitegrid\", {\"axes.grid\" : False})\n",
        "\n",
        "from skimage import io\n",
        "from google.colab.patches import cv2_imshow #Porque a função cv2.imshow é incompatível com Jupyter Notebook"
      ]
    },
    {
      "cell_type": "code",
      "execution_count": null,
      "metadata": {
        "id": "ppvRO3-KCePc"
      },
      "outputs": [],
      "source": [
        "imagem = cv2.imread(\"/content/foto3.JPG\")\n",
        "imagem = cv2.cvtColor(imagem, cv2.COLOR_BGR2RGB)\n",
        "\n",
        "plt.figure(figsize=(15,5))\n",
        "plt.imshow(imagem)\n",
        "plt.title(\"Imagem\")"
      ]
    },
    {
      "cell_type": "code",
      "source": [
        "#read the image\n",
        "img = cv2.imread('foto3.JPG')\n",
        "height, width = img.shape[:2]\n",
        "\n",
        "matriz_rotacao = cv2.getRotationMatrix2D((width, height), -5.4, 1)\n",
        "\n",
        "#rotate the image using cv2.warpAffine()\n",
        "out = cv2.warpAffine(img, matriz_rotacao, (img.shape[1], img.shape[0]))\n",
        "\n",
        "#display the results\n",
        "#cv2_imshow(out)\n",
        "\n",
        "plt.figure(figsize=(15,5))\n",
        "plt.imshow(out)\n",
        "plt.title('Imagem')"
      ],
      "metadata": {
        "id": "LZ9Zxr9pQafb"
      },
      "execution_count": null,
      "outputs": []
    },
    {
      "cell_type": "code",
      "source": [
        "height, width = imagem.shape[:2]\n",
        "matriz_rotacao = cv2.getRotationMatrix2D((width, height), -5.4, 1)\n",
        "print(matriz_rotacao)"
      ],
      "metadata": {
        "id": "p5MZZDlNQacN"
      },
      "execution_count": null,
      "outputs": []
    },
    {
      "cell_type": "code",
      "source": [
        "imagem_rotacionada = cv2.warpAffine(imagem, matriz_rotacao, (width, height))\n",
        "\n",
        "#desenhando linha para ver alinhamento da imagem\n",
        "cv2.line(imagem_rotacionada, (0,1000), (2500,1000), (255,0,0), 5)\n",
        "\n",
        "plt.figure(figsize=(15,5))\n",
        "plt.imshow(imagem_rotacionada)\n",
        "plt.title('imagem_rotacionada')"
      ],
      "metadata": {
        "colab": {
          "base_uri": "https://localhost:8080/",
          "height": 245
        },
        "id": "D2uJ31W6QaZF",
        "outputId": "2d9428aa-e6bb-4ff4-918e-c112315cc09c"
      },
      "execution_count": 1,
      "outputs": [
        {
          "output_type": "error",
          "ename": "NameError",
          "evalue": "name 'cv2' is not defined",
          "traceback": [
            "\u001b[0;31m---------------------------------------------------------------------------\u001b[0m",
            "\u001b[0;31mNameError\u001b[0m                                 Traceback (most recent call last)",
            "\u001b[0;32m<ipython-input-1-7d277b3eb719>\u001b[0m in \u001b[0;36m<cell line: 1>\u001b[0;34m()\u001b[0m\n\u001b[0;32m----> 1\u001b[0;31m \u001b[0mimagem_rotacionada\u001b[0m \u001b[0;34m=\u001b[0m \u001b[0mcv2\u001b[0m\u001b[0;34m.\u001b[0m\u001b[0mwarpAffine\u001b[0m\u001b[0;34m(\u001b[0m\u001b[0mimagem\u001b[0m\u001b[0;34m,\u001b[0m \u001b[0mmatriz_rotacao\u001b[0m\u001b[0;34m,\u001b[0m \u001b[0;34m(\u001b[0m\u001b[0mwidth\u001b[0m\u001b[0;34m,\u001b[0m \u001b[0mheight\u001b[0m\u001b[0;34m)\u001b[0m\u001b[0;34m)\u001b[0m\u001b[0;34m\u001b[0m\u001b[0;34m\u001b[0m\u001b[0m\n\u001b[0m\u001b[1;32m      2\u001b[0m \u001b[0;34m\u001b[0m\u001b[0m\n\u001b[1;32m      3\u001b[0m \u001b[0;31m#desenhando linha para ver alinhamento da imagem\u001b[0m\u001b[0;34m\u001b[0m\u001b[0;34m\u001b[0m\u001b[0m\n\u001b[1;32m      4\u001b[0m \u001b[0mcv2\u001b[0m\u001b[0;34m.\u001b[0m\u001b[0mline\u001b[0m\u001b[0;34m(\u001b[0m\u001b[0mimagem_rotacionada\u001b[0m\u001b[0;34m,\u001b[0m \u001b[0;34m(\u001b[0m\u001b[0;36m0\u001b[0m\u001b[0;34m,\u001b[0m\u001b[0;36m1000\u001b[0m\u001b[0;34m)\u001b[0m\u001b[0;34m,\u001b[0m \u001b[0;34m(\u001b[0m\u001b[0;36m2500\u001b[0m\u001b[0;34m,\u001b[0m\u001b[0;36m1000\u001b[0m\u001b[0;34m)\u001b[0m\u001b[0;34m,\u001b[0m \u001b[0;34m(\u001b[0m\u001b[0;36m255\u001b[0m\u001b[0;34m,\u001b[0m\u001b[0;36m0\u001b[0m\u001b[0;34m,\u001b[0m\u001b[0;36m0\u001b[0m\u001b[0;34m)\u001b[0m\u001b[0;34m,\u001b[0m \u001b[0;36m5\u001b[0m\u001b[0;34m)\u001b[0m\u001b[0;34m\u001b[0m\u001b[0;34m\u001b[0m\u001b[0m\n\u001b[1;32m      5\u001b[0m \u001b[0;34m\u001b[0m\u001b[0m\n",
            "\u001b[0;31mNameError\u001b[0m: name 'cv2' is not defined"
          ]
        }
      ]
    },
    {
      "cell_type": "code",
      "source": [
        "# deixando mudando a cor da borda preta\n",
        "imagem_rotacionada = cv2.warpAffine(imagem, matriz_rotacao, (width, height), borderValue=(255,255,255))\n",
        "\n",
        "plt.figure(figsize=(15,5))\n",
        "plt.imshow(imagem_rotacionada)\n",
        "plt.title('imagem_rotacionada')"
      ],
      "metadata": {
        "id": "lTruiH-0QaTv"
      },
      "execution_count": null,
      "outputs": []
    },
    {
      "cell_type": "code",
      "source": [
        "########################## Translação #########################\n",
        "\n",
        "height, width = imagem.shape[:2]\n",
        "\n",
        "#Vamos alterar o tamanho para a 25% do original\n",
        "height_alterado, width_alterado = height/4, width/4\n",
        "\n",
        "# Matriz de translação\n",
        "matriz_translacao = np.float32([[1,0,100],[0,1,50]])\n",
        "\n",
        "print(matriz_translacao)"
      ],
      "metadata": {
        "id": "b58CI-qdQaKM"
      },
      "execution_count": null,
      "outputs": []
    },
    {
      "cell_type": "code",
      "source": [
        "imagem_translada = cv2.warpAffine(imagem_rotacionada, matriz_translacao, (width, height), borderValue=(0,0,255))\n",
        "\n",
        "plt.figure(figsize=(15,5))\n",
        "plt.imshow(imagem_translada)\n",
        "plt.title('Imagem Translação')"
      ],
      "metadata": {
        "id": "pyj6R4evQZ4P"
      },
      "execution_count": null,
      "outputs": []
    },
    {
      "cell_type": "code",
      "source": [
        "###### Redimensionamento e Interpolação ###########\n",
        "###### usando resize ###############\n",
        "\n",
        "imagem = cv2.imread(\"/content/foto2.JPG\")\n",
        "imagem = cv2.cvtColor(imagem, cv2.COLOR_BGR2RGB)\n",
        "\n",
        "plt.figure(figsize=(15,5))\n",
        "plt.imshow(imagem)\n",
        "plt.title(\"Imagem\")"
      ],
      "metadata": {
        "id": "xMaqgZxSSL8_"
      },
      "execution_count": null,
      "outputs": []
    },
    {
      "cell_type": "code",
      "source": [
        "# Escala por fator\n",
        "\n",
        "fator_x=5\n",
        "fator_y=5\n",
        "\n",
        "plt.figure(figsize=(15,5))\n",
        "\n",
        "imagem_nova_linear = cv2.resize(imagem, None, fx=fator_x, fy=fator_y)\n",
        "\n",
        "plt.subplot(2,2,1)\n",
        "plt.imshow(imagem_nova_linear)\n",
        "plt.title(\"imagem_nova_linear\")\n",
        "\n",
        "imagem_nova_area = cv2.resize(imagem, None, fx=fator_x, fy=fator_y, interpolation=cv2.INTER_AREA)\n",
        "\n",
        "plt.subplot(2,2,3)\n",
        "plt.imshow(imagem_nova_area)\n",
        "plt.title(\"imagem_nova_area\")\n",
        "\n",
        "imagem_nova_lanczo = cv2.resize(imagem, None, fx=fator_x, fy=fator_y, interpolation=cv2.INTER_LANCZOS4)\n",
        "plt.subplot(2,2,4)\n",
        "plt.imshow(imagem_nova_lanczo)\n",
        "plt.title(\"imagem_nova_lanczo\")\n",
        "\n",
        "imagem_nova_cubica = cv2.resize(imagem, None, fx=fator_x, fy=fator_y, interpolation=cv2.INTER_CUBIC)\n",
        "\n",
        "plt.subplot(2,2,2)\n",
        "plt.imshow(imagem_nova_cubica)\n",
        "plt.title(\"imagem_nova_cubica\")\n"
      ],
      "metadata": {
        "id": "FM_2vkDVPgTf"
      },
      "execution_count": null,
      "outputs": []
    },
    {
      "cell_type": "code",
      "source": [
        "###### Pegando area de interesse ###########\n",
        "\n",
        "imagem = cv2.imread(\"/content/foto3.JPG\")\n",
        "imagem = cv2.cvtColor(imagem, cv2.COLOR_BGR2RGB)\n",
        "\n",
        "plt.figure(figsize=(15,5))\n",
        "plt.imshow(imagem)\n",
        "plt.title(\"Imagem\")\n"
      ],
      "metadata": {
        "id": "Mg9GTBB3Td9Q"
      },
      "execution_count": null,
      "outputs": []
    },
    {
      "cell_type": "code",
      "source": [
        "linha_y_inicio, coluna_x_inicio = 800, 1700\n",
        "linha_y_final, coluna_x_final = 2500, 3100\n",
        "\n",
        "imagem_recortada = imagem[linha_y_inicio:linha_y_final, coluna_x_inicio:coluna_x_final]\n",
        "\n",
        "plt.imshow(imagem_recortada)\n",
        "plt.title(\"Imagem Recortada\")"
      ],
      "metadata": {
        "id": "BmPMbWPwULTr"
      },
      "execution_count": null,
      "outputs": []
    },
    {
      "cell_type": "code",
      "source": [
        "imagem_anotada = imagem.copy()\n",
        "cv2.rectangle(imagem_anotada,(coluna_x_inicio, linha_y_inicio), (coluna_x_final, linha_y_final), (255,255,0), 50)\n",
        "\n",
        "plt.figure(figsize=(15,5))\n",
        "plt.imshow(imagem_anotada)"
      ],
      "metadata": {
        "id": "m61140GRVhuP"
      },
      "execution_count": null,
      "outputs": []
    },
    {
      "cell_type": "code",
      "source": [
        "roi = imagem_anotada[linha_y_inicio:linha_y_final, coluna_x_inicio:coluna_x_final]\n",
        "\n",
        "plt.imshow(roi)"
      ],
      "metadata": {
        "id": "zusPOTvGcohn"
      },
      "execution_count": null,
      "outputs": []
    },
    {
      "cell_type": "code",
      "source": [
        "############## transformação da cor ####################\n",
        "\n",
        "roi = cv2.cvtColor(roi, cv2.COLOR_BGR2GRAY)\n",
        "roi = cv2.cvtColor(roi, cv2.COLOR_GRAY2BGR)\n",
        "\n",
        "imagem_anotada[linha_y_inicio:linha_y_final, coluna_x_inicio:coluna_x_final] = roi\n",
        "\n",
        "plt.figure(figsize=(15,5))\n",
        "plt.imshow(imagem_anotada)"
      ],
      "metadata": {
        "id": "M1TUK9XZfc9P"
      },
      "execution_count": null,
      "outputs": []
    },
    {
      "cell_type": "code",
      "source": [
        "############### Alterando o Brilho (nitidez) ####################\n",
        "\n",
        "imagem = cv2.imread(\"/content/foto4.JPG\")\n",
        "imagem = cv2.cvtColor(imagem, cv2.COLOR_BGR2RGB)\n",
        "\n",
        "imagem_shape = imagem.shape\n",
        "\n",
        "plt.imshow(imagem)\n",
        "plt.title(\"Imagem\")"
      ],
      "metadata": {
        "id": "KPm7s1lXbYDC"
      },
      "execution_count": null,
      "outputs": []
    },
    {
      "cell_type": "code",
      "source": [
        "matriz_brilho = np.ones(imagem_shape, np.uint8) * 30\n",
        "imagem_brilho = cv2.add(imagem, matriz_brilho)\n",
        "\n",
        "plt.imshow(imagem_brilho)\n",
        "plt.title(\"Imagem Brilho\")"
      ],
      "metadata": {
        "id": "SsgKXmHNb5OG"
      },
      "execution_count": null,
      "outputs": []
    },
    {
      "cell_type": "code",
      "source": [
        "############ Operações Lógicas ##############\n",
        "\n",
        "retangulo = np.zeros((300,300), np.uint8)\n",
        "cv2.rectangle(retangulo, (50,50), (200,200), 255, -2)\n",
        "plt.subplot(3,3,1)\n",
        "plt.imshow(retangulo, cmap=\"gray\")\n",
        "plt.title(\"retangulo\")\n",
        "\n",
        "circulo = np.zeros((300,300), np.uint8)\n",
        "cv2.circle(circulo, (180,150), 100, (255,255,0), -2)\n",
        "plt.subplot(3,3,2)\n",
        "plt.imshow(circulo, cmap=\"Blues\")\n",
        "plt.title(\"Circulo\")\n",
        "\n",
        "operacao_and = cv2.bitwise_and(retangulo, circulo)\n",
        "plt.subplot(3,3,3)\n",
        "plt.imshow(operacao_and, cmap=\"inferno\")\n",
        "plt.title(\"Operação And (E)\")\n",
        "\n",
        "operacao_or = cv2.bitwise_or(retangulo, circulo)\n",
        "plt.subplot(3,3,4)\n",
        "plt.imshow(operacao_or, cmap=\"gist_heat_r\")\n",
        "plt.title(\"Operação or (OU)\")\n",
        "\n",
        "operacao_not = cv2.bitwise_not(circulo)\n",
        "plt.subplot(3,3,5)\n",
        "plt.imshow(operacao_not, cmap=\"Oranges\")\n",
        "plt.title(\"Operação or (OU)\")"
      ],
      "metadata": {
        "id": "9r9Fzf2Bcj5k"
      },
      "execution_count": null,
      "outputs": []
    },
    {
      "cell_type": "code",
      "source": [
        "############ Suavização de Imagens ###################\n",
        "\n",
        "retangulo = np.zeros((200,200), np.uint8)\n",
        "cv2.rectangle(retangulo, (40,40), (160,160), 255, -2)\n",
        "\n",
        "imagem_suav_padrao = cv2.blur(retangulo, (15,15))\n",
        "imagem_suav_mediana = cv2.medianBlur(retangulo, 15)\n",
        "imagem_suav_gaussian = cv2.GaussianBlur(retangulo, (15,15), 0)\n",
        "\n",
        "plt.figure(figsize=(20,10))\n",
        "\n",
        "plt.subplot(1,4,1)\n",
        "plt.axis(\"off\")\n",
        "plt.imshow(retangulo, cmap=\"gray\")\n",
        "plt.title(\"Retangulo\")\n",
        "\n",
        "plt.subplot(1,4,2)\n",
        "plt.axis(\"off\")\n",
        "plt.imshow(imagem_suav_padrao, cmap=\"gray\")\n",
        "plt.title(\"Média\")\n",
        "\n",
        "plt.subplot(1,4,3)\n",
        "plt.axis(\"off\")\n",
        "plt.imshow(imagem_suav_mediana, cmap=\"gray\")\n",
        "plt.title(\"Mediana\")\n",
        "\n",
        "plt.subplot(1,4,4)\n",
        "plt.axis(\"off\")\n",
        "plt.imshow(imagem_suav_gaussian, cmap=\"gray\")\n",
        "plt.title(\"Gaussiana\")"
      ],
      "metadata": {
        "id": "TyJYMMnUdNFN"
      },
      "execution_count": null,
      "outputs": []
    },
    {
      "cell_type": "code",
      "source": [
        "############# Thresholding (limiarização) ###################\n",
        "\n",
        "imagem = cv2.imread(\"/content/foto5.JPG\")\n",
        "imagem = cv2.cvtColor(imagem, cv2.COLOR_BGR2GRAY)\n",
        "\n",
        "plt.figure(figsize=(10,5))\n",
        "plt.imshow(imagem, cmap=\"gray\")\n",
        "plt.title(\"Imagem Original\")"
      ],
      "metadata": {
        "id": "43TQQmO_q49z"
      },
      "execution_count": null,
      "outputs": []
    },
    {
      "cell_type": "code",
      "source": [
        "ret, imagem_limiarizada = cv2.threshold(imagem, 150, 255, cv2.THRESH_BINARY)\n",
        "#ret, imagem_limiarizada = cv2.threshold(imagem, 150, 255, cv2.THRESH_BINARY_INV)\n",
        "#ret, imagem_limiarizada = cv2.threshold(imagem, 150, 255, cv2.THRESH_TRUNC)\n",
        "#ret, imagem_limiarizada = cv2.threshold(imagem, 150, 255, cv2.THRESH_TOZERO)\n",
        "#ret, imagem_limiarizada = cv2.threshold(imagem, 150, 255, cv2.THRESH_TOZERO_INV)\n",
        "\n",
        "plt.figure(figsize=(10,5))\n",
        "plt.imshow(imagem_limiarizada, cmap=\"gray\")\n",
        "plt.title(\"Limiarização Binária\")"
      ],
      "metadata": {
        "id": "TqE973zLjQ5q"
      },
      "execution_count": null,
      "outputs": []
    },
    {
      "cell_type": "code",
      "source": [
        "############## Operações Morfológicas (Erosão e Dilação) ################\n",
        "\n",
        "imagem = cv2.imread(\"/content/foto5.JPG\")\n",
        "imagem = cv2.cvtColor(imagem, cv2.COLOR_BGR2RGB)\n",
        "\n",
        "plt.figure(figsize=(10,5))\n",
        "plt.imshow(imagem)\n",
        "plt.title(\"Imagem Original\")"
      ],
      "metadata": {
        "id": "6n-8lsqsj0Pr"
      },
      "execution_count": null,
      "outputs": []
    },
    {
      "cell_type": "code",
      "source": [
        "imagem_gray = cv2.imread(\"/content/foto5.JPG\", cv2.IMREAD_GRAYSCALE)\n",
        "\n",
        "plt.figure(figsize=(10,5))\n",
        "plt.imshow(imagem_gray, cmap=\"gray\")\n",
        "plt.title(\"Imagem\")"
      ],
      "metadata": {
        "id": "TpFoK2loj86J"
      },
      "execution_count": null,
      "outputs": []
    },
    {
      "cell_type": "code",
      "source": [
        "imagem_suavizada = cv2.GaussianBlur(imagem_gray, (1,1), 0)\n",
        "ret, imagem_limiarizada = cv2.threshold(imagem_suavizada, 150, 255, cv2.THRESH_BINARY)\n",
        "\n",
        "plt.figure(figsize=(10,5))\n",
        "plt.imshow(imagem_limiarizada, cmap=\"gray\")\n",
        "plt.title(\"Limiarização após Suavização\")"
      ],
      "metadata": {
        "id": "gw9XQuLKkFqK"
      },
      "execution_count": null,
      "outputs": []
    },
    {
      "cell_type": "code",
      "source": [
        "kernel = np.ones((3,3), np.uint8)\n",
        "imagem_dilatacao = cv2.dilate(imagem_limiarizada, kernel, iterations=2)\n",
        "#imagem_erosao = cv2.erode(imagem_limiarizada, kernel, iterations=1)\n",
        "\n",
        "plt.figure(figsize=(10,5))\n",
        "plt.imshow(imagem_dilatacao, cmap=\"gray\")\n",
        "plt.title(\"Dilatação\")"
      ],
      "metadata": {
        "id": "Wb1uaOhlkKj7"
      },
      "execution_count": null,
      "outputs": []
    },
    {
      "cell_type": "code",
      "source": [
        "################## Detecção de Bordas ###########\n",
        "\n",
        "imagem_gray = cv2.imread(\"/content/foto5.JPG\", cv2.IMREAD_GRAYSCALE)\n",
        "\n",
        "plt.figure(figsize=(10,5))\n",
        "plt.imshow(imagem_gray, cmap=\"gray\")\n",
        "plt.title(\"Imagem\")"
      ],
      "metadata": {
        "id": "ZapHLd9Mnv4i"
      },
      "execution_count": null,
      "outputs": []
    },
    {
      "cell_type": "code",
      "source": [
        "# Método Canny\n",
        "\n",
        "borda_canny = cv2.Canny(imagem_gray, 40, 80)\n",
        "\n",
        "plt.figure(figsize=(10,5))\n",
        "plt.imshow(borda_canny, cmap=\"gray\")\n",
        "plt.title(\"Bordas\")"
      ],
      "metadata": {
        "id": "28ZAYLoKqukH"
      },
      "execution_count": null,
      "outputs": []
    },
    {
      "cell_type": "code",
      "source": [
        "_, mask = cv2.threshold(borda_canny, 30, 255, cv2.THRESH_BINARY_INV)\n",
        "\n",
        "plt.figure(figsize=(20,10))\n",
        "plt.imshow(mask, cmap=\"gray\")\n",
        "plt.title(\"Bordas\")"
      ],
      "metadata": {
        "id": "USvzhZRUrSlw"
      },
      "execution_count": null,
      "outputs": []
    },
    {
      "cell_type": "code",
      "source": [
        "######### Segmentação de Imagens ##############\n",
        "# Contornos (Detecção de Bordas)\n",
        "\n",
        "imagem_objetos = cv2.imread(\"foto5.JPG\")\n",
        "imagem_objetos = cv2.cvtColor(imagem_objetos, cv2.COLOR_BGR2RGB)\n",
        "\n",
        "print(imagem_objetos.shape)\n",
        "\n",
        "plt.figure(figsize=(10,5))\n",
        "plt.imshow(imagem_objetos)\n",
        "plt.title(\"Imagem Original\")"
      ],
      "metadata": {
        "id": "JL0YhEPOwJ9N"
      },
      "execution_count": null,
      "outputs": []
    },
    {
      "cell_type": "code",
      "source": [
        "imagem_objetos_gray = cv2.cvtColor(imagem_objetos, cv2.COLOR_BGR2GRAY)\n",
        "imagem_objetos_bordas = cv2.Canny(imagem_objetos_gray, 1, 100)\n",
        "\n",
        "plt.figure(figsize=(10,10))\n",
        "plt.imshow(imagem_objetos_bordas)\n",
        "plt.title(\"Imagem Original\")"
      ],
      "metadata": {
        "id": "64vwK3Yqw5xz"
      },
      "execution_count": null,
      "outputs": []
    },
    {
      "cell_type": "code",
      "source": [
        "contornos_objetos, hierarchy_objetos = cv2.findContours(imagem_objetos_bordas,\n",
        "                                                        cv2.RETR_EXTERNAL, cv2.CHAIN_APPROX_SIMPLE)\n",
        "\n",
        "print(\"contornos encontrados \"+str(len(contornos_objetos)))\n",
        "\n",
        "imagem_objetos_contornos = imagem_objetos.copy()\n",
        "cv2.drawContours(imagem_objetos_contornos, contornos_objetos, -1, (0,255,255), 3)\n",
        "\n",
        "plt.figure(figsize=(10,10))\n",
        "plt.imshow(imagem_objetos_contornos)\n",
        "plt.title(\"Contornos\")"
      ],
      "metadata": {
        "id": "APbATy1dxlZS"
      },
      "execution_count": null,
      "outputs": []
    },
    {
      "cell_type": "code",
      "source": [
        "# Encontrando Bordas com valores relevantes\n",
        "\n",
        "contornos_objetos_internos, hierarchy = cv2.findContours(imagem_objetos_bordas,\n",
        "                                                         cv2.RETR_LIST, cv2.CHAIN_APPROX_SIMPLE)\n",
        "\n",
        "print(\"contornos encontrados \"+str(len(contornos_objetos_internos)))\n",
        "\n",
        "for idx, contorno in enumerate(contornos_objetos_internos):\n",
        "  (x,y,w,h) = cv2.boundingRect(contorno)\n",
        "  area = int(w) * int(h)\n",
        "  print(\"Contorno \" +str(idx) + \" \" + str(area))"
      ],
      "metadata": {
        "id": "Tg9capZhzG7P"
      },
      "execution_count": null,
      "outputs": []
    },
    {
      "cell_type": "code",
      "source": [
        "imagem_objetos_contornos = imagem_objetos.copy()\n",
        "cv2.drawContours(imagem_objetos_contornos, contornos_objetos, -1, (0,255,255), 2)\n",
        "\n",
        "plt.figure(figsize=(10,10))\n",
        "plt.imshow(imagem_objetos_contornos)\n",
        "plt.title(\"Contornos\")"
      ],
      "metadata": {
        "id": "V4h8TgGm0_BC"
      },
      "execution_count": null,
      "outputs": []
    },
    {
      "cell_type": "code",
      "source": [
        "# Ordenando so contornos\n",
        "# Foram feitos processos que auxiliam na remoção de ruidos na imagem, agora veremos como ela ficou\n",
        "\n",
        "imagem = cv2.imread(\"foto5.JPG\")\n",
        "imagem = cv2.cvtColor(imagem, cv2.COLOR_BGR2RGB)\n",
        "\n",
        "print(imagem.shape)\n",
        "\n",
        "plt.figure(figsize=(15,10))\n",
        "\n",
        "plt.subplot(1,2,1)\n",
        "plt.imshow(imagem_objetos)\n",
        "plt.title(\"Imagem1\")\n",
        "\n",
        "plt.subplot(1,2,2)\n",
        "plt.imshow(imagem)\n",
        "plt.title(\"Imagem2\")"
      ],
      "metadata": {
        "id": "RxpS3y3V2KO9"
      },
      "execution_count": null,
      "outputs": []
    },
    {
      "cell_type": "code",
      "source": [
        "imagem_gray = cv2.cvtColor(imagem, cv2.COLOR_BGR2GRAY)\n",
        "imagem_gray_suav = cv2.GaussianBlur(imagem_gray, (3,3), 0)\n",
        "imagem_bordas = cv2.Canny(imagem_gray_suav, 1, 100)\n",
        "\n",
        "plt.figure(figsize=(10,10))\n",
        "\n",
        "plt.subplot(1,2,1)\n",
        "plt.imshow(imagem_objetos_bordas)\n",
        "plt.title(\"Contornos1\")\n",
        "\n",
        "plt.subplot(1,2,2)\n",
        "plt.imshow(imagem_bordas)\n",
        "plt.title(\"Contornos2\")"
      ],
      "metadata": {
        "id": "3cn1ni_v5k-n"
      },
      "execution_count": null,
      "outputs": []
    },
    {
      "cell_type": "code",
      "source": [
        "contornos_formas, hierarchy = cv2.findContours(imagem_bordas, cv2.RETR_EXTERNAL, cv2.CHAIN_APPROX_SIMPLE)\n",
        "print(\"contornos encontrados \"+str(len(contornos_formas)))\n",
        "\n",
        "imagem_contornos = imagem.copy()\n",
        "\n",
        "cv2.drawContours(imagem_contornos, contornos_formas, -1, (0,255,255), 2)\n",
        "\n",
        "plt.figure(figsize=(10,10))\n",
        "\n",
        "plt.subplot(1,2,1)\n",
        "plt.imshow(imagem_objetos_contornos)\n",
        "plt.title(\"Contornos1\")\n",
        "\n",
        "plt.subplot(1,2,2)\n",
        "plt.imshow(imagem_contornos)\n",
        "plt.title(\"Contornos2\")"
      ],
      "metadata": {
        "id": "FTgtceXz6cKe"
      },
      "execution_count": null,
      "outputs": []
    },
    {
      "cell_type": "code",
      "source": [
        "def areas_contornos(contornos):\n",
        "  areas = []\n",
        "  for contorno in contornos:\n",
        "    area = cv2.contourArea(contorno)\n",
        "    areas.append(area)\n",
        "  return areas"
      ],
      "metadata": {
        "id": "lreIxW0O7r5J"
      },
      "execution_count": 79,
      "outputs": []
    },
    {
      "cell_type": "code",
      "source": [
        "areas_contornos(contornos_formas), len(areas_contornos(contornos_formas))"
      ],
      "metadata": {
        "id": "V6KUfU_E8H0L"
      },
      "execution_count": null,
      "outputs": []
    },
    {
      "cell_type": "code",
      "source": [
        "#algumas imagens poder apresentar pequenos contornos que podem ser considerados ruidos\n",
        "#para o seguinte exemplo vamos arbitrar ruidos apenas maiores que 1\n",
        "\n",
        "areas_contornos(contornos_formas)\n",
        "contornos_padronizados = []\n",
        "\n",
        "for contorno in contornos_formas:\n",
        "  if cv2.contourArea(contorno) > 1:\n",
        "    contornos_padronizados.append(contorno)\n",
        "\n",
        "len(contornos_formas), len(contornos_padronizados)"
      ],
      "metadata": {
        "id": "06Y7Xjg88w-s"
      },
      "execution_count": null,
      "outputs": []
    },
    {
      "cell_type": "code",
      "source": [
        "#Esta função localiza o centroide de cada objeto para colocarmos um determinado texto\n",
        "def label_centroide(imagem, contorno, identificacao):\n",
        "  m = cv2.moments(contorno)\n",
        "  cx= int(M[\"m10\"]/M[\"m00\"])\n",
        "  cy= int(M[\"m01\"]/M[\"m00\"])\n",
        "  cv2.put.Text(imagem, str(identificacao), (cx,cy), cv2.FONT_HERSHEY_SIMPLEX, 1, (0,255,0), 2)\n"
      ],
      "metadata": {
        "id": "27KRenMF_3XW"
      },
      "execution_count": null,
      "outputs": []
    },
    {
      "cell_type": "code",
      "source": [
        "#a função sorted analisa os itens do array e aplica a função de calculo de area e ordena de forma reversa\n",
        "contornos_ordenacao = sorted(contornos_padronizados, key = cv2.contornoArea, reverse=True)"
      ],
      "metadata": {
        "id": "aJrPkqOqA1eT"
      },
      "execution_count": null,
      "outputs": []
    },
    {
      "cell_type": "code",
      "source": [
        "len(contornos_ordenacao)"
      ],
      "metadata": {
        "id": "r7652vu1BCdk"
      },
      "execution_count": null,
      "outputs": []
    },
    {
      "cell_type": "code",
      "source": [
        "imagem_contornos = imagem.copy()\n",
        "\n",
        "for idx, contorno in enumerate(contornos_ordenacao):\n",
        "  area = cv2.contornoArea(contorno)\n",
        "  label_centroide(imagem_contornos, contorno, idx+1)\n",
        "  print(\"Processando Contorno \" + str(idx))"
      ],
      "metadata": {
        "id": "9ME9kSCCBkAV"
      },
      "execution_count": null,
      "outputs": []
    },
    {
      "cell_type": "code",
      "source": [
        "plt.figure(figsize=(10,10))\n",
        "\n",
        "plt.title(\"Contornos Ordenados Área\")\n",
        "plt.imshow(imagem_contornos)"
      ],
      "metadata": {
        "id": "ChJwSsDaCPEP"
      },
      "execution_count": null,
      "outputs": []
    },
    {
      "cell_type": "code",
      "source": [
        "#esta função obterá a coordenada X de cada contorno, assim erá possivel ordenar as imagens por esta coordenada\n",
        "def posicao_x(contorno):\n",
        "  M = cv2.moments(contorno)\n",
        "  cx = int(M[\"m10\"]/M[\"m00\"])\n",
        "  return cx"
      ],
      "metadata": {
        "id": "oNAAKrVrCdsm"
      },
      "execution_count": null,
      "outputs": []
    },
    {
      "cell_type": "code",
      "source": [
        "contornos_ordenados_x = sorted(contornos_padronizados, key = posicao_x, reverse=False)"
      ],
      "metadata": {
        "id": "dLC8qRQ0DMRw"
      },
      "execution_count": null,
      "outputs": []
    },
    {
      "cell_type": "code",
      "source": [
        "imagem_contornos = imagem.copy()\n",
        "\n",
        "for idx, contorno in enumerate(contornos_ordenados_x):\n",
        "  label_centroide(imagem_contornos, contorno, idx+1)\n",
        "\n",
        "plt.figure(figsize=(10,10))\n",
        "plt.title(\"Contornos Ordenados X\")\n",
        "plt.imshow(imagem_contornos)"
      ],
      "metadata": {
        "id": "Dvz-_uNsDT91"
      },
      "execution_count": null,
      "outputs": []
    }
  ],
  "metadata": {
    "colab": {
      "provenance": [],
      "toc_visible": true,
      "authorship_tag": "ABX9TyNpQnnHWQdaZdjiMfVIX+st",
      "include_colab_link": true
    },
    "kernelspec": {
      "display_name": "Python 3",
      "name": "python3"
    },
    "language_info": {
      "name": "python"
    }
  },
  "nbformat": 4,
  "nbformat_minor": 0
}